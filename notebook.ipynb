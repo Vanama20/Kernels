{
  "cells": [
    {
      "metadata": {
        "collapsed": true,
        "_uuid": "73b5230468713507a2b87d00d23a97c9fc9cb91d",
        "_cell_guid": "e939c118-ff0f-436f-acb1-6936bcbdc361",
        "trusted": false
      },
      "cell_type": "code",
      "source": "# This Python 3 environment comes with many helpful analytics libraries installed\n# It is defined by the kaggle/python docker image: https://github.com/kaggle/docker-python\n# For example, here's several helpful packages to load in \n\nimport numpy as np # linear algebra\nimport pandas as pd # data processing, CSV file I/O (e.g. pd.read_csv)\nimport seaborn as sns # data visualization library  \nimport matplotlib.pyplot as plt\n\n# Input data files are available in the \"../input/\" directory.\n# For example, running this (by clicking run or pressing Shift+Enter) will list the files in the input directory\n\nfrom subprocess import check_output\nprint(check_output([\"ls\", \"../input\"]).decode(\"utf8\"))\n\n# Any results you write to the current directory are saved as output.",
      "execution_count": null,
      "outputs": []
    },
    {
      "metadata": {
        "_cell_guid": "300701bb-5bc4-43bb-8c75-5824c62f0046",
        "_uuid": "f85387a610ec266eee3a01d851ea482b7dce2e22"
      },
      "cell_type": "markdown",
      "source": "A tutoial for beginners in Machine Learning"
    },
    {
      "metadata": {
        "collapsed": true,
        "_uuid": "438eafa7b66c15c1e2eef781025d3bd164bf4413",
        "_cell_guid": "dc872ada-05fa-496b-a8ea-695c77ed9289",
        "trusted": false
      },
      "cell_type": "code",
      "source": "data = pd.read_csv('../input/data.csv')",
      "execution_count": null,
      "outputs": []
    },
    {
      "metadata": {
        "collapsed": true,
        "_uuid": "68bb8984f41ed1c744f7b6c3d473848190708388",
        "_cell_guid": "c56a723c-c00d-4a5b-baa1-7f10de81e5fa",
        "trusted": false
      },
      "cell_type": "code",
      "source": "data.head()",
      "execution_count": null,
      "outputs": []
    },
    {
      "metadata": {
        "collapsed": true,
        "_uuid": "ec1c50b5fb27f8f54db1269bafb9f4801bd9f1be",
        "_cell_guid": "96d71f0f-9ec4-43a7-abe7-dfa1863c9adf",
        "trusted": false
      },
      "cell_type": "code",
      "source": "# feature names as a list\ncol = data.columns       # .columns gives columns names in data \nprint(col)",
      "execution_count": null,
      "outputs": []
    },
    {
      "metadata": {
        "collapsed": true,
        "_uuid": "1c27882ec2815df32a4f4d94a78d7e7f282f0390",
        "_cell_guid": "cdbd4153-bde9-4438-9223-dce9cdd41ab3",
        "scrolled": true,
        "trusted": false
      },
      "cell_type": "code",
      "source": "# y includes our labels and x includes our features\ny = data.diagnosis                          # M or B \nlist = ['Unnamed: 32','id','diagnosis']\nx = data.drop(list,axis = 1 )\nx.head()",
      "execution_count": null,
      "outputs": []
    },
    {
      "metadata": {
        "collapsed": true,
        "_uuid": "9a4efadb7a6d66de6adff18235edb076c32ec727",
        "_cell_guid": "fc98e3a5-b052-4eab-94bc-12e97503d144",
        "trusted": false
      },
      "cell_type": "code",
      "source": "ax = sns.countplot(y,label=\"Count\")       # M = 212, B = 357\nB, M = y.value_counts()\nprint('Number of Benign: ',B)\nprint('Number of Malignant : ',M)",
      "execution_count": null,
      "outputs": []
    },
    {
      "metadata": {
        "collapsed": true,
        "_uuid": "9f0224d7cf01fd46b1d699d707b67e3bfc68ae22",
        "_cell_guid": "ddd68341-5b05-4daa-9f4b-6834fff50136",
        "trusted": false
      },
      "cell_type": "code",
      "source": "",
      "execution_count": null,
      "outputs": []
    }
  ],
  "metadata": {
    "kernelspec": {
      "display_name": "Python 3",
      "language": "python",
      "name": "python3"
    },
    "language_info": {
      "file_extension": ".py",
      "mimetype": "text/x-python",
      "name": "python",
      "nbconvert_exporter": "python",
      "codemirror_mode": {
        "name": "ipython",
        "version": 3
      },
      "pygments_lexer": "ipython3",
      "version": "3.6.3"
    }
  },
  "nbformat": 4,
  "nbformat_minor": 1
}